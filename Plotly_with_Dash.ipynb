{
  "nbformat": 4,
  "nbformat_minor": 0,
  "metadata": {
    "colab": {
      "name": "Plotly with Dash.ipynb",
      "provenance": [],
      "collapsed_sections": []
    },
    "kernelspec": {
      "name": "python3",
      "display_name": "Python 3"
    },
    "language_info": {
      "name": "python"
    }
  },
  "cells": [
    {
      "cell_type": "code",
      "metadata": {
        "colab": {
          "base_uri": "https://localhost:8080/"
        },
        "id": "wUaB-hH-Ci_5",
        "outputId": "dcfb8b67-4d99-4519-d2a3-b945e4bb0698"
      },
      "source": [
        "!pip install dash\n",
        "!pip install plotly"
      ],
      "execution_count": null,
      "outputs": [
        {
          "output_type": "stream",
          "name": "stdout",
          "text": [
            "Collecting dash\n",
            "  Using cached dash-2.0.0-py3-none-any.whl (7.3 MB)\n",
            "Collecting dash-core-components==2.0.0\n",
            "  Using cached dash_core_components-2.0.0.tar.gz (3.4 kB)\n",
            "Collecting flask-compress\n",
            "  Using cached Flask_Compress-1.10.1-py3-none-any.whl (7.9 kB)\n",
            "Requirement already satisfied: Flask>=1.0.4 in /usr/local/lib/python3.7/dist-packages (from dash) (1.1.4)\n",
            "Collecting plotly>=5.0.0\n",
            "  Downloading plotly-5.4.0-py2.py3-none-any.whl (25.3 MB)\n",
            "\u001b[K     |████████████████████████████████| 25.3 MB 2.7 MB/s \n",
            "\u001b[?25hCollecting dash-table==5.0.0\n",
            "  Using cached dash_table-5.0.0.tar.gz (3.4 kB)\n",
            "Collecting dash-html-components==2.0.0\n",
            "  Using cached dash_html_components-2.0.0.tar.gz (3.8 kB)\n",
            "Requirement already satisfied: click<8.0,>=5.1 in /usr/local/lib/python3.7/dist-packages (from Flask>=1.0.4->dash) (7.1.2)\n",
            "Requirement already satisfied: Werkzeug<2.0,>=0.15 in /usr/local/lib/python3.7/dist-packages (from Flask>=1.0.4->dash) (1.0.1)\n",
            "Requirement already satisfied: Jinja2<3.0,>=2.10.1 in /usr/local/lib/python3.7/dist-packages (from Flask>=1.0.4->dash) (2.11.3)\n",
            "Requirement already satisfied: itsdangerous<2.0,>=0.24 in /usr/local/lib/python3.7/dist-packages (from Flask>=1.0.4->dash) (1.1.0)\n",
            "Requirement already satisfied: MarkupSafe>=0.23 in /usr/local/lib/python3.7/dist-packages (from Jinja2<3.0,>=2.10.1->Flask>=1.0.4->dash) (2.0.1)\n",
            "Collecting tenacity>=6.2.0\n",
            "  Downloading tenacity-8.0.1-py3-none-any.whl (24 kB)\n",
            "Requirement already satisfied: six in /usr/local/lib/python3.7/dist-packages (from plotly>=5.0.0->dash) (1.15.0)\n",
            "Collecting brotli\n",
            "  Downloading Brotli-1.0.9-cp37-cp37m-manylinux1_x86_64.whl (357 kB)\n",
            "\u001b[K     |████████████████████████████████| 357 kB 52.6 MB/s \n",
            "\u001b[?25hBuilding wheels for collected packages: dash-core-components, dash-html-components, dash-table\n",
            "  Building wheel for dash-core-components (setup.py) ... \u001b[?25l\u001b[?25hdone\n",
            "  Created wheel for dash-core-components: filename=dash_core_components-2.0.0-py3-none-any.whl size=3821 sha256=083cc9a65e8ff8d6f85d9eb4a532ab2ffce41d29a30e84338dc5926afaeeb778\n",
            "  Stored in directory: /root/.cache/pip/wheels/00/f9/c7/1a6437d794ed753ea9bc9079e761d4fc803a1f1f5d3697b9ec\n",
            "  Building wheel for dash-html-components (setup.py) ... \u001b[?25l\u001b[?25hdone\n",
            "  Created wheel for dash-html-components: filename=dash_html_components-2.0.0-py3-none-any.whl size=4089 sha256=9d8ba01ed72735a47568c7acc0b2cc0949efb54531466e4bb3b1c78e1301145b\n",
            "  Stored in directory: /root/.cache/pip/wheels/ec/6b/81/05aceabd8b27f724e2c96784016287cc1bfbc349ebfda451de\n",
            "  Building wheel for dash-table (setup.py) ... \u001b[?25l\u001b[?25hdone\n",
            "  Created wheel for dash-table: filename=dash_table-5.0.0-py3-none-any.whl size=3911 sha256=c6b4bb010ca2abab89373d5c0bd2a5cf8f194199587906c1a3c0c17cff8a77ac\n",
            "  Stored in directory: /root/.cache/pip/wheels/85/5d/4e/7c276b57992951dbe770bf5caad6448d0539c510663aefd2e2\n",
            "Successfully built dash-core-components dash-html-components dash-table\n",
            "Installing collected packages: tenacity, brotli, plotly, flask-compress, dash-table, dash-html-components, dash-core-components, dash\n",
            "  Attempting uninstall: plotly\n",
            "    Found existing installation: plotly 4.4.1\n",
            "    Uninstalling plotly-4.4.1:\n",
            "      Successfully uninstalled plotly-4.4.1\n",
            "Successfully installed brotli-1.0.9 dash-2.0.0 dash-core-components-2.0.0 dash-html-components-2.0.0 dash-table-5.0.0 flask-compress-1.10.1 plotly-5.4.0 tenacity-8.0.1\n",
            "Requirement already satisfied: plotly in /usr/local/lib/python3.7/dist-packages (5.4.0)\n",
            "Requirement already satisfied: six in /usr/local/lib/python3.7/dist-packages (from plotly) (1.15.0)\n",
            "Requirement already satisfied: tenacity>=6.2.0 in /usr/local/lib/python3.7/dist-packages (from plotly) (8.0.1)\n"
          ]
        }
      ]
    },
    {
      "cell_type": "code",
      "metadata": {
        "colab": {
          "base_uri": "https://localhost:8080/",
          "height": 270
        },
        "id": "4NxryUVhClHy",
        "outputId": "f7259c76-592e-48a2-8de3-c8058e03eb8a"
      },
      "source": [
        "import pandas as pd\n",
        "import plotly.graph_objects as go\n",
        "import plotly.express as px\n",
        "import dash\n",
        "from dash import html\n",
        "from dash import dcc\n",
        "from dash.dependencies import Input, Output\n",
        "\n",
        "app = dash.Dash(__name__)\n",
        "\n",
        "data = pd.read_csv(\"https://cf-courses-data.s3.us.cloud-object-storage.appdomain.cloud/IBM-DS0321EN-SkillsNetwork/datasets/spacex_launch_dash.csv\")\n",
        "\n",
        "app.layout = html.Div([\n",
        "    html.H1('SpaceX Launch Records Dashboard', style={'text-align': 'center'}),\n",
        "    dcc.Dropdown(id='site-dropdown', \n",
        "                options=[{'label':'All Sites', 'value':'All'},\n",
        "                        {'label': 'CCAFS LC-40', 'value': 'CCAFS LC-40'},\n",
        "                        {'label': 'VAFB SLC-4E', 'value': 'VAFB SLC-4E'},\n",
        "                        {'label': 'KSC LC-39A', 'value': 'KSC LC-39A'},\n",
        "                        {'label': 'CCAFS SLC-40', 'value': 'CCAFS SLC-40'}],\n",
        "                        value='ALL',\n",
        "                        placeholder=\"All sites\",\n",
        "                        searchable=True\n",
        "                        ),\n",
        "    html.Div(dcc.Graph(id='success-pie-chart')),\n",
        "\n",
        "    html.P('Payload range (kg) :'),\n",
        "\n",
        "    html.Div(dcc.RangeSlider(id='payload-slider', min=0, max=10000, step=1000,\n",
        "                             marks={0:'0', 2500:'2500', 5000:'5000', 7500:'7500', 10000:'10000'}, \n",
        "                             value=[0, 10000])),\n",
        "    html.Div(dcc.Graph(id='success-payload-scatter-chart'))\n",
        "])\n",
        "\n",
        "\n",
        "@app.callback(Output(component_id='success-pie-chart', component_property='figure'),\n",
        "              Input(component_id='site-dropdown', component_property='value'))\n",
        "\n",
        "\n",
        "def get_pie_chart(entered_site):\n",
        "    clone = data\n",
        "\n",
        "    if entered_site == 'All':\n",
        "        fig = px.pie(clone, values='class', names='Launch Site', title='Total Success Launches By Site')\n",
        "    \n",
        "    else:\n",
        "        fig = px.pie(clone[clone['Launch Site'] == entered_site], names='class', title='Total Success Launches ')\n",
        "    \n",
        "    return fig\n",
        "\n",
        "    \n",
        "\n",
        "@app.callback(Output(component_id='success-payload-scatter-chart', component_property='figure'),\n",
        "              Input(component_id='site-dropdown', component_property='value'),\n",
        "              Input(component_id='payload-slider', component_property='value'))\n",
        "\n",
        "\n",
        "def get_scatterplot(entered_site, payload):\n",
        "    clone = data\n",
        "\n",
        "    if entered_site == 'All':\n",
        "        fig1 = px.scatter(clone, x='Payload Mass (kg)', y='class', color=\"Booster Version Category\", range_x=payload, title='Correlation between Payload and Success for all Sites')\n",
        "    else:\n",
        "        fig1 = px.scatter(clone[clone['Launch Site'] == entered_site], x='Payload Mass (kg)', y='class', color=\"Booster Version Category\", range_x=payload, title='Correlation between Payload and Success for a Specified Site')\n",
        "    \n",
        "    return fig1\n",
        "\n",
        "\n",
        "if __name__ == \"__main__\":\n",
        "    app.run_server()"
      ],
      "execution_count": null,
      "outputs": [
        {
          "output_type": "stream",
          "name": "stdout",
          "text": [
            "Dash is running on http://127.0.0.1:8030/\n",
            "\n",
            " * Serving Flask app \"__main__\" (lazy loading)\n",
            " * Environment: production\n",
            "\u001b[31m   WARNING: This is a development server. Do not use it in a production deployment.\u001b[0m\n",
            "\u001b[2m   Use a production WSGI server instead.\u001b[0m\n",
            " * Debug mode: on\n"
          ]
        },
        {
          "output_type": "error",
          "ename": "SystemExit",
          "evalue": "ignored",
          "traceback": [
            "An exception has occurred, use %tb to see the full traceback.\n",
            "\u001b[0;31mSystemExit\u001b[0m\u001b[0;31m:\u001b[0m 1\n"
          ]
        },
        {
          "output_type": "stream",
          "name": "stderr",
          "text": [
            "/usr/local/lib/python3.7/dist-packages/IPython/core/interactiveshell.py:2890: UserWarning: To exit: use 'exit', 'quit', or Ctrl-D.\n",
            "  warn(\"To exit: use 'exit', 'quit', or Ctrl-D.\", stacklevel=1)\n"
          ]
        }
      ]
    }
  ]
}
